{
 "cells": [
  {
   "cell_type": "markdown",
   "id": "9b424219",
   "metadata": {},
   "source": [
    "# What is Web Scraping? Why is it Used? Give three areas where Web Scraping is used to get data.\n",
    "\n",
    "Web scraping is the process of using bots to extract content and data from a website.Unlike screen scraping, which only copies pixels displayed onscreen, web scraping extracts underlying HTML code and, with it, data stored in a database. The scraper can then replicate entire website content elsewhere.Web scraping is used in a variety of digital businesses that rely on data harvesting. Legitimate use cases include:\n",
    "Search engine bots crawling a site, analyzing its content and then ranking it.Price comparison sites deploying bots to auto-fetch prices and product descriptions for allied seller websites.Market research companies using scrapers to pull data from forums and social media (e.g., for sentiment analysis).Web scraping is also used for illegal purposes, including the undercutting of prices and the theft of copyrighted content. An online entity targeted by a scraper can suffer severe financial losses, especially if it’s a business strongly relying on competitive pricing models or deals in content distribution.\n",
    "\n",
    "The most common techniques used for Web Scraping are\n",
    "\n",
    "Human copy-and-paste.\n",
    "Text pattern matching.\n",
    "HTTP programming.\n",
    "HTML parsing.\n",
    "DOM parsing.\n",
    "Vertical aggregation.\n",
    "Semantic annotation recognizing.\n",
    "Computer vision web-page analysis\n",
    "\n",
    "\n"
   ]
  },
  {
   "cell_type": "markdown",
   "id": "4ed32381",
   "metadata": {},
   "source": [
    "# What is Beautiful Soup? Why is it used?\n",
    "\n",
    "\n",
    "Beautiful Soup is a Python library that makes it easy to scrape information from web pages. It sits atop an HTML or XML parser and provides Pythonic idioms for iterating, searching, and modifying the parse tree\n",
    "\n",
    "Uses of Beautiful Soup\n",
    "The Beautiful Soup library helps with isolating titles and links from webpages. It can extract all of the text from \n",
    "\n",
    "HTML tags, and alter the HTML in the document with which we’re working."
   ]
  },
  {
   "cell_type": "markdown",
   "id": "8a63d615",
   "metadata": {},
   "source": [
    "# Why is flask used in this Web Scraping project?\n",
    "\n",
    "Flask is a popular Python web framework used for building web applications and APIs. While Flask is not directly related to web scraping, it can be utilized in web scraping projects for various reasons:\n",
    "\n",
    "Web interface: Flask allows you to create a user-friendly web interface for your web scraping project. You can develop a web application where users can interact with your scraping functionality, provide inputs, and view the results in a convenient manner.\n",
    "\n",
    "API development: Flask provides a flexible and lightweight framework for building APIs. If you want to expose your scraping functionality as a web service, Flask makes it easy to define routes, handle HTTP requests, and return scraped data in a structured format such as JSON.\n",
    "\n",
    "Data visualization: Flask can be combined with libraries like Plotly or Matplotlib to generate visualizations and display scraped data in charts, graphs, or other visual formats. This can be particularly useful when you want to present the scraped data in a more intuitive and understandable manner.\n",
    "\n",
    "Integration with other libraries: Flask can be easily integrated with various Python libraries commonly used in web scraping, such as BeautifulSoup or Scrapy. You can leverage the capabilities of these libraries for scraping web content and then use Flask to handle the presentation and interaction aspects.\n",
    "\n",
    "Deployment and hosting: Flask offers a straightforward deployment process, allowing you to easily host your web scraping project on various platforms. You can deploy your Flask application on a server or cloud platform, making it accessible to users or other systems.\n",
    "\n",
    "Overall, Flask provides a versatile and convenient framework for building web scraping projects, enabling you to create a user interface, develop APIs, visualize data, and deploy your application with relative ease."
   ]
  },
  {
   "cell_type": "markdown",
   "id": "29dc69db",
   "metadata": {},
   "source": [
    "1.AWS CodePipeline\n",
    "2.AWS Elastic Beanstalk "
   ]
  }
 ],
 "metadata": {
  "kernelspec": {
   "display_name": "Python 3 (ipykernel)",
   "language": "python",
   "name": "python3"
  },
  "language_info": {
   "codemirror_mode": {
    "name": "ipython",
    "version": 3
   },
   "file_extension": ".py",
   "mimetype": "text/x-python",
   "name": "python",
   "nbconvert_exporter": "python",
   "pygments_lexer": "ipython3",
   "version": "3.9.13"
  }
 },
 "nbformat": 4,
 "nbformat_minor": 5
}
